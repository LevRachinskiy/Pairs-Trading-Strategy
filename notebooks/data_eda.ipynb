import pandas as pd
import matplotlib.pyplot as plt
import seaborn as sns

# Load historical price data
jpm_data = pd.read_csv("data/JPM_historical.csv", index_col="Date", parse_dates=True)
bac_data = pd.read_csv("data/BAC_historical.csv", index_col="Date", parse_dates=True)

# Merge datasets on Date using the 'Close' prices
df = pd.merge(jpm_data['Close'], bac_data['Close'], left_index=True, right_index=True, suffixes=('_JPM', '_BAC'))

# Check for missing values
print("Missing values:\n", df.isnull().sum())

# Drop missing values if any exist
df.dropna(inplace=True)

# Plot the closing prices for both assets
plt.figure(figsize=(12, 6))
plt.plot(df.index, df['Close_JPM'], label='JPM')
plt.plot(df.index, df['Close_BAC'], label='BAC')
plt.title("Closing Prices for JPM and BAC")
plt.xlabel("Date")
plt.ylabel("Price")
plt.legend()
plt.show()

# Calculate and display the correlation matrix
corr = df.corr()
print("Correlation matrix:\n", corr)
sns.heatmap(corr, annot=True)
plt.title("Correlation Matrix")
plt.show()

# Calculate the spread between the two stocks and its z-score
df['Spread'] = df['Close_JPM'] - df['Close_BAC']
spread_mean = df['Spread'].mean()
spread_std = df['Spread'].std()
df['ZScore'] = (df['Spread'] - spread_mean) / spread_std

# Plot the spread and the corresponding z-score
fig, ax = plt.subplots(2, 1, figsize=(12, 10))

ax[0].plot(df.index, df['Spread'], label='Spread')
ax[0].set_title("Spread between JPM and BAC")
ax[0].legend()

ax[1].plot(df.index, df['ZScore'], label='Z-Score', color='orange')
ax[1].axhline(2, color='red', linestyle='--', label='Upper Threshold')
ax[1].axhline(-2, color='green', linestyle='--', label='Lower Threshold')
ax[1].set_title("Z-Score of Spread")
ax[1].legend()

plt.tight_layout()
plt.show()
